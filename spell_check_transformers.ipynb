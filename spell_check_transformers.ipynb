{
 "cells": [
  {
   "cell_type": "code",
   "execution_count": 1,
   "id": "694a478f",
   "metadata": {},
   "outputs": [],
   "source": [
    "from transformers import pipeline\n",
    "from nltk.metrics.distance import edit_distance, jaccard_distance\n",
    "from nltk.util import ngrams"
   ]
  },
  {
   "cell_type": "code",
   "execution_count": 2,
   "id": "1120ff26",
   "metadata": {},
   "outputs": [
    {
     "name": "stderr",
     "output_type": "stream",
     "text": [
      "Some weights of the model checkpoint at bert-base-uncased were not used when initializing BertForMaskedLM: ['cls.seq_relationship.weight', 'cls.seq_relationship.bias']\n",
      "- This IS expected if you are initializing BertForMaskedLM from the checkpoint of a model trained on another task or with another architecture (e.g. initializing a BertForSequenceClassification model from a BertForPreTraining model).\n",
      "- This IS NOT expected if you are initializing BertForMaskedLM from the checkpoint of a model that you expect to be exactly identical (initializing a BertForSequenceClassification model from a BertForSequenceClassification model).\n"
     ]
    }
   ],
   "source": [
    "unmasker = pipeline('fill-mask', model='bert-base-uncased')"
   ]
  },
  {
   "cell_type": "code",
   "execution_count": 3,
   "id": "bdd17ed6",
   "metadata": {},
   "outputs": [],
   "source": [
    "#data: https://github.com/dwyl/english-words/blob/master/words_alpha.txt\n",
    "with open(\"words_alpha.txt\",\"r\") as f:\n",
    "    dictionary = [word.strip() for word in f.readlines()]"
   ]
  },
  {
   "cell_type": "code",
   "execution_count": 4,
   "id": "38c71c46",
   "metadata": {},
   "outputs": [],
   "source": [
    "def transformer_spell_check(sentence):    \n",
    "    input_text = \"\"\n",
    "    c = 0\n",
    "    words = sentence.split()\n",
    "    for i in range(len(words)):\n",
    "        c = 0\n",
    "\n",
    "        if words[i].lower() in dictionary:\n",
    "            c = 1\n",
    "            input_text += words[i]\n",
    "            input_text += \" \"\n",
    "            continue\n",
    "        elif c == 0:\n",
    "            pos = i\n",
    "            input_text += '[MASK] '\n",
    "    if '[MASK]' in input_text:\n",
    "        predictions = unmasker(input_text)\n",
    "        min_dist = 100\n",
    "        final_pred = ''\n",
    "        for i in predictions:\n",
    "\n",
    "            pred_word = i['token_str']\n",
    "            distance = edit_distance(pred_word, words[pos]) \n",
    "            \n",
    "            if distance < min_dist:\n",
    "                min_dist = distance\n",
    "                final_pred = pred_word\n",
    "                \n",
    "        print(\"Incorrect word: \",words[pos], \" Corrected word: \",final_pred)\n",
    "        words[pos] = final_pred\n",
    "\n",
    "        print(\"Predicted Sentence:\")\n",
    "        print(\" \".join([str(word) for word in words]))\n",
    "    else:\n",
    "        print(\"The semantics of the sentence is correct\")"
   ]
  },
  {
   "cell_type": "code",
   "execution_count": 5,
   "id": "9b40ecdb",
   "metadata": {},
   "outputs": [
    {
     "name": "stdout",
     "output_type": "stream",
     "text": [
      "\n",
      "Input Text:  I have been thinkyng of you\n",
      "Incorrect word:  thinkyng  Corrected word:  thinking\n",
      "Predicted Sentence:\n",
      "I have been thinking of you\n",
      "\n",
      "Input Text:  WHY HAVE YOU COLLEDD ME\n",
      "Incorrect word:  COLLEDD  Corrected word:  called\n",
      "Predicted Sentence:\n",
      "WHY HAVE YOU called ME\n",
      "\n",
      "Input Text:  tell me woot happened\n",
      "Incorrect word:  woot  Corrected word:  what\n",
      "Predicted Sentence:\n",
      "tell me what happened\n",
      "\n",
      "Input Text:  He will picc up calls\n",
      "Incorrect word:  picc  Corrected word:  pick\n",
      "Predicted Sentence:\n",
      "He will pick up calls\n",
      "\n",
      "Input Text:  wot did u gift him\n",
      "The semantics of the sentence is correct\n"
     ]
    }
   ],
   "source": [
    "test_sentences = ['I have been thinkyng of you',\n",
    "                 \"WHY HAVE YOU COLLEDD ME\",\n",
    "                 \"tell me woot happened\",\n",
    "                 \"He will picc up calls\",\n",
    "                 \"wot did u gift him\"]\n",
    "\n",
    "for text in test_sentences:\n",
    "    print(\"\\nInput Text: \",text)\n",
    "    transformer_spell_check(text)"
   ]
  }
 ],
 "metadata": {
  "kernelspec": {
   "display_name": "Python 3 (ipykernel)",
   "language": "python",
   "name": "python3"
  },
  "language_info": {
   "codemirror_mode": {
    "name": "ipython",
    "version": 3
   },
   "file_extension": ".py",
   "mimetype": "text/x-python",
   "name": "python",
   "nbconvert_exporter": "python",
   "pygments_lexer": "ipython3",
   "version": "3.8.0"
  }
 },
 "nbformat": 4,
 "nbformat_minor": 5
}
