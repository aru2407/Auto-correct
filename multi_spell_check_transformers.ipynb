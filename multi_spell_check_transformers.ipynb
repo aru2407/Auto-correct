{
 "cells": [
  {
   "cell_type": "code",
   "execution_count": 1,
   "id": "694a478f",
   "metadata": {},
   "outputs": [],
   "source": [
    "from transformers import pipeline\n",
    "from nltk.metrics.distance import edit_distance, jaccard_distance\n",
    "from nltk.util import ngrams"
   ]
  },
  {
   "cell_type": "code",
   "execution_count": 2,
   "id": "1120ff26",
   "metadata": {},
   "outputs": [
    {
     "name": "stderr",
     "output_type": "stream",
     "text": [
      "Some weights of the model checkpoint at bert-base-uncased were not used when initializing BertForMaskedLM: ['cls.seq_relationship.weight', 'cls.seq_relationship.bias']\n",
      "- This IS expected if you are initializing BertForMaskedLM from the checkpoint of a model trained on another task or with another architecture (e.g. initializing a BertForSequenceClassification model from a BertForPreTraining model).\n",
      "- This IS NOT expected if you are initializing BertForMaskedLM from the checkpoint of a model that you expect to be exactly identical (initializing a BertForSequenceClassification model from a BertForSequenceClassification model).\n"
     ]
    }
   ],
   "source": [
    "unmasker = pipeline('fill-mask', model='bert-base-uncased')"
   ]
  },
  {
   "cell_type": "code",
   "execution_count": 3,
   "id": "bdd17ed6",
   "metadata": {},
   "outputs": [],
   "source": [
    "with open(\"words_alpha.txt\",\"r\") as f:\n",
    "    dictionary = [word.strip() for word in f.readlines()]"
   ]
  },
  {
   "cell_type": "code",
   "execution_count": 4,
   "id": "1fe8c4c0",
   "metadata": {},
   "outputs": [],
   "source": [
    "def find_mask(sentence):\n",
    "    #sentence = 'I have been thinking of having lonchh with you'\n",
    "    input_text = \"\"\n",
    "    new_sentence = \"\"\n",
    "    c = 0\n",
    "    pos = -1\n",
    "    no_mask = 0\n",
    "    words = sentence.split()\n",
    "    for i in range(len(words)):\n",
    "        c = 0\n",
    "\n",
    "        if words[i].lower() in dictionary:\n",
    "            c = 1\n",
    "            input_text += words[i]\n",
    "            input_text += \" \"\n",
    "            continue\n",
    "        elif c == 0:\n",
    "            pos = i\n",
    "            input_text += '[MASK] '\n",
    "    c = 0\n",
    "    if '[MASK]' in input_text:\n",
    "        if input_text.count('[MASK]',0,len(input_text))>1:\n",
    "            pos = 0\n",
    "            new_words = input_text.split()\n",
    "            for i in range(len(new_words)):\n",
    "                if new_words[i] == '[MASK]':\n",
    "                    c +=1\n",
    "                    if c == 1:\n",
    "                        new_sentence += new_words[i]\n",
    "                        new_sentence +=\" \"\n",
    "                        pos = i\n",
    "                        continue\n",
    "                    else:\n",
    "                        new_sentence +=\"\"\n",
    "                else:\n",
    "\n",
    "                    new_sentence += new_words[i]\n",
    "                    new_sentence +=\" \"\n",
    "            #print(new_sentence,pos)\n",
    "            no_mask = 1\n",
    "            predictor(sentence,new_sentence,pos,no_mask)\n",
    "        else:\n",
    "            no_mask = 0\n",
    "            predictor(sentence,input_text,pos,no_mask)\n",
    "    "
   ]
  },
  {
   "cell_type": "code",
   "execution_count": 5,
   "id": "901683bf",
   "metadata": {},
   "outputs": [],
   "source": [
    "def predictor(sentence,new_sentence,pos,no_mask):\n",
    "    words = sentence.split()\n",
    "    predictions = unmasker(new_sentence)\n",
    "    min_dist = 100\n",
    "    #print(pos)\n",
    "    final_pred = ''\n",
    "    for i in predictions:\n",
    "\n",
    "        pred_word = i['token_str']\n",
    "        \n",
    "        distance = edit_distance(pred_word, words[pos]) \n",
    "        #print(pred_word, distance)        \n",
    "        if distance < min_dist:\n",
    "            min_dist = distance\n",
    "            final_pred = pred_word\n",
    "\n",
    "    print(\"\\nIncorrect word: \",words[pos], \" Corrected word: \",final_pred)\n",
    "    words[pos] = final_pred\n",
    "\n",
    "    \n",
    "    predicted_sentence = \" \".join([str(word) for word in words])\n",
    "    find_mask(predicted_sentence)\n",
    "    if no_mask == 0:\n",
    "        print(\"\\nPredicted Sentence:\")\n",
    "        print(predicted_sentence)\n",
    "    predicted_sentence = \"\""
   ]
  },
  {
   "cell_type": "code",
   "execution_count": 8,
   "id": "49f6096e",
   "metadata": {},
   "outputs": [
    {
     "name": "stdout",
     "output_type": "stream",
     "text": [
      "\n",
      "\n",
      "\n",
      "Input Sentence: \n",
      "I have been thinking of having lonchh with you\n",
      "\n",
      "Incorrect word:  lonchh  Corrected word:  lunch\n",
      "\n",
      "Predicted Sentence:\n",
      "I have been thinking of having lunch with you\n",
      "\n",
      "\n",
      "\n",
      "Input Sentence: \n",
      "who am I taalking with tell me your nmae\n",
      "\n",
      "Incorrect word:  taalking  Corrected word:  talking\n",
      "\n",
      "Incorrect word:  nmae  Corrected word:  name\n",
      "\n",
      "Predicted Sentence:\n",
      "who am I talking with tell me your name\n",
      "\n",
      "\n",
      "\n",
      "Input Sentence: \n",
      "find out who he is\n",
      "\n",
      "\n",
      "\n",
      "Input Sentence: \n",
      "do you feeeel better now I haerd you were not eaping well\n",
      "\n",
      "Incorrect word:  feeeel  Corrected word:  feel\n",
      "\n",
      "Incorrect word:  haerd  Corrected word:  said\n",
      "\n",
      "Incorrect word:  eaping  Corrected word:  eating\n",
      "\n",
      "Predicted Sentence:\n",
      "do you feel better now I said you were not eating well\n",
      "\n",
      "\n",
      "\n",
      "Input Sentence: \n",
      "do u wanna coll up your parents\n"
     ]
    }
   ],
   "source": [
    "test_sentences = ['I have been thinking of having lonchh with you',\n",
    "                \"who am I taalking with tell me your nmae\",\n",
    "                  \"find out who he is\",\n",
    "                 \"do you feeeel better now I haerd you were not eaping well\",\n",
    "                 \"do u wanna coll up your parents\"] \n",
    "for text in test_sentences:\n",
    "    print(\"\\n\\n\\nInput Sentence: \")\n",
    "    print(text)\n",
    "    find_mask(text)"
   ]
  }
 ],
 "metadata": {
  "kernelspec": {
   "display_name": "Python 3 (ipykernel)",
   "language": "python",
   "name": "python3"
  },
  "language_info": {
   "codemirror_mode": {
    "name": "ipython",
    "version": 3
   },
   "file_extension": ".py",
   "mimetype": "text/x-python",
   "name": "python",
   "nbconvert_exporter": "python",
   "pygments_lexer": "ipython3",
   "version": "3.8.0"
  }
 },
 "nbformat": 4,
 "nbformat_minor": 5
}
